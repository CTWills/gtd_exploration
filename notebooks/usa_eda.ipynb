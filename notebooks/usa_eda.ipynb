{
 "cells": [
  {
   "cell_type": "code",
   "execution_count": 1,
   "metadata": {},
   "outputs": [],
   "source": [
    "import pandas as pd\n",
    "import matplotlib.pyplot as plt\n",
    "from datetime import datetime"
   ]
  },
  {
   "cell_type": "code",
   "execution_count": 2,
   "metadata": {},
   "outputs": [],
   "source": [
    "world_df = pd.read_excel(\"../data/gtd_jan_june_21.xlsx\", index_col=0)"
   ]
  },
  {
   "cell_type": "code",
   "execution_count": 3,
   "metadata": {},
   "outputs": [],
   "source": [
    "usa_df = world_df[world_df[\"country_txt\"] == \"United States\"].copy()"
   ]
  },
  {
   "cell_type": "markdown",
   "metadata": {},
   "source": [
    "* Usa only has data for year 2021"
   ]
  },
  {
   "cell_type": "code",
   "execution_count": 4,
   "metadata": {},
   "outputs": [
    {
     "data": {
      "text/plain": [
       "iyear\n",
       "2021    26\n",
       "Name: count, dtype: int64"
      ]
     },
     "execution_count": 4,
     "metadata": {},
     "output_type": "execute_result"
    }
   ],
   "source": [
    "usa_df[\"iyear\"].value_counts()"
   ]
  },
  {
   "cell_type": "markdown",
   "metadata": {},
   "source": [
    "* Amount of terrorist attacks recorded"
   ]
  },
  {
   "cell_type": "code",
   "execution_count": 35,
   "metadata": {},
   "outputs": [
    {
     "data": {
      "text/plain": [
       "26"
      ]
     },
     "execution_count": 35,
     "metadata": {},
     "output_type": "execute_result"
    }
   ],
   "source": [
    "len(usa_df)"
   ]
  },
  {
   "cell_type": "code",
   "execution_count": 5,
   "metadata": {},
   "outputs": [
    {
     "data": {
      "text/html": [
       "<div>\n",
       "<style scoped>\n",
       "    .dataframe tbody tr th:only-of-type {\n",
       "        vertical-align: middle;\n",
       "    }\n",
       "\n",
       "    .dataframe tbody tr th {\n",
       "        vertical-align: top;\n",
       "    }\n",
       "\n",
       "    .dataframe thead th {\n",
       "        text-align: right;\n",
       "    }\n",
       "</style>\n",
       "<table border=\"1\" class=\"dataframe\">\n",
       "  <thead>\n",
       "    <tr style=\"text-align: right;\">\n",
       "      <th>eventid</th>\n",
       "      <th>202105240050</th>\n",
       "    </tr>\n",
       "  </thead>\n",
       "  <tbody>\n",
       "    <tr>\n",
       "      <th>iyear</th>\n",
       "      <td>2021</td>\n",
       "    </tr>\n",
       "    <tr>\n",
       "      <th>imonth</th>\n",
       "      <td>5</td>\n",
       "    </tr>\n",
       "    <tr>\n",
       "      <th>iday</th>\n",
       "      <td>24</td>\n",
       "    </tr>\n",
       "    <tr>\n",
       "      <th>approxdate</th>\n",
       "      <td>NaN</td>\n",
       "    </tr>\n",
       "    <tr>\n",
       "      <th>extended</th>\n",
       "      <td>0</td>\n",
       "    </tr>\n",
       "    <tr>\n",
       "      <th>...</th>\n",
       "      <td>...</td>\n",
       "    </tr>\n",
       "    <tr>\n",
       "      <th>INT_LOG</th>\n",
       "      <td>-9</td>\n",
       "    </tr>\n",
       "    <tr>\n",
       "      <th>INT_IDEO</th>\n",
       "      <td>-9</td>\n",
       "    </tr>\n",
       "    <tr>\n",
       "      <th>INT_MISC</th>\n",
       "      <td>0</td>\n",
       "    </tr>\n",
       "    <tr>\n",
       "      <th>INT_ANY</th>\n",
       "      <td>-9</td>\n",
       "    </tr>\n",
       "    <tr>\n",
       "      <th>related</th>\n",
       "      <td>NaN</td>\n",
       "    </tr>\n",
       "  </tbody>\n",
       "</table>\n",
       "<p>134 rows × 1 columns</p>\n",
       "</div>"
      ],
      "text/plain": [
       "eventid    202105240050\n",
       "iyear              2021\n",
       "imonth                5\n",
       "iday                 24\n",
       "approxdate          NaN\n",
       "extended              0\n",
       "...                 ...\n",
       "INT_LOG              -9\n",
       "INT_IDEO             -9\n",
       "INT_MISC              0\n",
       "INT_ANY              -9\n",
       "related             NaN\n",
       "\n",
       "[134 rows x 1 columns]"
      ]
     },
     "execution_count": 5,
     "metadata": {},
     "output_type": "execute_result"
    }
   ],
   "source": [
    "usa_df.sample().T"
   ]
  },
  {
   "cell_type": "code",
   "execution_count": 6,
   "metadata": {},
   "outputs": [
    {
     "data": {
      "text/html": [
       "<div>\n",
       "<style scoped>\n",
       "    .dataframe tbody tr th:only-of-type {\n",
       "        vertical-align: middle;\n",
       "    }\n",
       "\n",
       "    .dataframe tbody tr th {\n",
       "        vertical-align: top;\n",
       "    }\n",
       "\n",
       "    .dataframe thead th {\n",
       "        text-align: right;\n",
       "    }\n",
       "</style>\n",
       "<table border=\"1\" class=\"dataframe\">\n",
       "  <thead>\n",
       "    <tr style=\"text-align: right;\">\n",
       "      <th></th>\n",
       "      <th>iday</th>\n",
       "      <th>imonth</th>\n",
       "      <th>iyear</th>\n",
       "    </tr>\n",
       "    <tr>\n",
       "      <th>eventid</th>\n",
       "      <th></th>\n",
       "      <th></th>\n",
       "      <th></th>\n",
       "    </tr>\n",
       "  </thead>\n",
       "  <tbody>\n",
       "    <tr>\n",
       "      <th>202103160007</th>\n",
       "      <td>16</td>\n",
       "      <td>3</td>\n",
       "      <td>2021</td>\n",
       "    </tr>\n",
       "  </tbody>\n",
       "</table>\n",
       "</div>"
      ],
      "text/plain": [
       "              iday  imonth  iyear\n",
       "eventid                          \n",
       "202103160007    16       3   2021"
      ]
     },
     "execution_count": 6,
     "metadata": {},
     "output_type": "execute_result"
    }
   ],
   "source": [
    "usa_df[[\"iday\", \"imonth\", \"iyear\"]].sample()"
   ]
  },
  {
   "cell_type": "code",
   "execution_count": 7,
   "metadata": {},
   "outputs": [],
   "source": [
    "usa_df.rename(columns={\"iday\": \"day\", \"imonth\": \"month\", \"iyear\": \"year\"}, inplace=True)"
   ]
  },
  {
   "cell_type": "code",
   "execution_count": 9,
   "metadata": {},
   "outputs": [],
   "source": [
    "usa_df[\"date\"] = pd.to_datetime(usa_df[[\"day\",\"month\",\"year\"]])"
   ]
  },
  {
   "cell_type": "code",
   "execution_count": 14,
   "metadata": {},
   "outputs": [
    {
     "data": {
      "text/plain": [
       "date\n",
       "2021-03-16    3\n",
       "2021-01-06    3\n",
       "2021-05-19    2\n",
       "2021-01-04    1\n",
       "2021-04-15    1\n",
       "2021-06-21    1\n",
       "2021-05-24    1\n",
       "2021-05-23    1\n",
       "2021-05-22    1\n",
       "2021-05-20    1\n",
       "2021-04-24    1\n",
       "2021-03-25    1\n",
       "2021-04-02    1\n",
       "2021-03-15    1\n",
       "2021-03-06    1\n",
       "2021-03-02    1\n",
       "2021-02-25    1\n",
       "2021-01-23    1\n",
       "2021-01-18    1\n",
       "2021-01-14    1\n",
       "2021-06-26    1\n",
       "Name: count, dtype: int64"
      ]
     },
     "execution_count": 14,
     "metadata": {},
     "output_type": "execute_result"
    }
   ],
   "source": [
    "usa_df[\"date\"].value_counts()"
   ]
  },
  {
   "cell_type": "code",
   "execution_count": 17,
   "metadata": {},
   "outputs": [],
   "source": [
    "jan_six = usa_df[(usa_df[\"date\"].dt.month == 1) & (usa_df[\"date\"].dt.day == 6)]"
   ]
  },
  {
   "cell_type": "code",
   "execution_count": 27,
   "metadata": {},
   "outputs": [
    {
     "data": {
      "text/html": [
       "<div>\n",
       "<style scoped>\n",
       "    .dataframe tbody tr th:only-of-type {\n",
       "        vertical-align: middle;\n",
       "    }\n",
       "\n",
       "    .dataframe tbody tr th {\n",
       "        vertical-align: top;\n",
       "    }\n",
       "\n",
       "    .dataframe thead th {\n",
       "        text-align: right;\n",
       "    }\n",
       "</style>\n",
       "<table border=\"1\" class=\"dataframe\">\n",
       "  <thead>\n",
       "    <tr style=\"text-align: right;\">\n",
       "      <th></th>\n",
       "      <th>year</th>\n",
       "      <th>month</th>\n",
       "      <th>day</th>\n",
       "      <th>approxdate</th>\n",
       "      <th>extended</th>\n",
       "      <th>resolution</th>\n",
       "      <th>country</th>\n",
       "      <th>country_txt</th>\n",
       "      <th>region</th>\n",
       "      <th>region_txt</th>\n",
       "      <th>...</th>\n",
       "      <th>scite1</th>\n",
       "      <th>scite2</th>\n",
       "      <th>scite3</th>\n",
       "      <th>dbsource</th>\n",
       "      <th>INT_LOG</th>\n",
       "      <th>INT_IDEO</th>\n",
       "      <th>INT_MISC</th>\n",
       "      <th>INT_ANY</th>\n",
       "      <th>related</th>\n",
       "      <th>date</th>\n",
       "    </tr>\n",
       "    <tr>\n",
       "      <th>eventid</th>\n",
       "      <th></th>\n",
       "      <th></th>\n",
       "      <th></th>\n",
       "      <th></th>\n",
       "      <th></th>\n",
       "      <th></th>\n",
       "      <th></th>\n",
       "      <th></th>\n",
       "      <th></th>\n",
       "      <th></th>\n",
       "      <th></th>\n",
       "      <th></th>\n",
       "      <th></th>\n",
       "      <th></th>\n",
       "      <th></th>\n",
       "      <th></th>\n",
       "      <th></th>\n",
       "      <th></th>\n",
       "      <th></th>\n",
       "      <th></th>\n",
       "      <th></th>\n",
       "    </tr>\n",
       "  </thead>\n",
       "  <tbody>\n",
       "    <tr>\n",
       "      <th>202101060016</th>\n",
       "      <td>2021</td>\n",
       "      <td>1</td>\n",
       "      <td>6</td>\n",
       "      <td>NaN</td>\n",
       "      <td>0</td>\n",
       "      <td>NaT</td>\n",
       "      <td>217</td>\n",
       "      <td>United States</td>\n",
       "      <td>1</td>\n",
       "      <td>North America</td>\n",
       "      <td>...</td>\n",
       "      <td>\"FBI posts new photos of DC pipe bomb suspect ...</td>\n",
       "      <td>NaN</td>\n",
       "      <td>NaN</td>\n",
       "      <td>START Primary Collection</td>\n",
       "      <td>0</td>\n",
       "      <td>0</td>\n",
       "      <td>0</td>\n",
       "      <td>0</td>\n",
       "      <td>202101060016, 202101060017, 202101060018</td>\n",
       "      <td>2021-01-06</td>\n",
       "    </tr>\n",
       "    <tr>\n",
       "      <th>202101060017</th>\n",
       "      <td>2021</td>\n",
       "      <td>1</td>\n",
       "      <td>6</td>\n",
       "      <td>NaN</td>\n",
       "      <td>0</td>\n",
       "      <td>NaT</td>\n",
       "      <td>217</td>\n",
       "      <td>United States</td>\n",
       "      <td>1</td>\n",
       "      <td>North America</td>\n",
       "      <td>...</td>\n",
       "      <td>\"Feds rushing to find leads on person who put ...</td>\n",
       "      <td>\"Capitol Bomber Remains At Large: FBI Offers $...</td>\n",
       "      <td>\"Pipe Bombs Believed To Have Been Placed Night...</td>\n",
       "      <td>START Primary Collection</td>\n",
       "      <td>-9</td>\n",
       "      <td>-9</td>\n",
       "      <td>0</td>\n",
       "      <td>-9</td>\n",
       "      <td>202101060016, 202101060017, 202101060018</td>\n",
       "      <td>2021-01-06</td>\n",
       "    </tr>\n",
       "    <tr>\n",
       "      <th>202101060018</th>\n",
       "      <td>2021</td>\n",
       "      <td>1</td>\n",
       "      <td>6</td>\n",
       "      <td>NaN</td>\n",
       "      <td>0</td>\n",
       "      <td>NaT</td>\n",
       "      <td>217</td>\n",
       "      <td>United States</td>\n",
       "      <td>1</td>\n",
       "      <td>North America</td>\n",
       "      <td>...</td>\n",
       "      <td>\"Feds rushing to find leads on person who put ...</td>\n",
       "      <td>\"Capitol Bomber Remains At Large: FBI Offers $...</td>\n",
       "      <td>\"Pipe Bombs Believed To Have Been Placed Night...</td>\n",
       "      <td>START Primary Collection</td>\n",
       "      <td>-9</td>\n",
       "      <td>-9</td>\n",
       "      <td>0</td>\n",
       "      <td>-9</td>\n",
       "      <td>202101060016, 202101060017, 202101060018</td>\n",
       "      <td>2021-01-06</td>\n",
       "    </tr>\n",
       "  </tbody>\n",
       "</table>\n",
       "<p>3 rows × 135 columns</p>\n",
       "</div>"
      ],
      "text/plain": [
       "              year  month  day approxdate  extended resolution  country  \\\n",
       "eventid                                                                   \n",
       "202101060016  2021      1    6        NaN         0        NaT      217   \n",
       "202101060017  2021      1    6        NaN         0        NaT      217   \n",
       "202101060018  2021      1    6        NaN         0        NaT      217   \n",
       "\n",
       "                country_txt  region     region_txt  ...  \\\n",
       "eventid                                             ...   \n",
       "202101060016  United States       1  North America  ...   \n",
       "202101060017  United States       1  North America  ...   \n",
       "202101060018  United States       1  North America  ...   \n",
       "\n",
       "                                                         scite1  \\\n",
       "eventid                                                           \n",
       "202101060016  \"FBI posts new photos of DC pipe bomb suspect ...   \n",
       "202101060017  \"Feds rushing to find leads on person who put ...   \n",
       "202101060018  \"Feds rushing to find leads on person who put ...   \n",
       "\n",
       "                                                         scite2  \\\n",
       "eventid                                                           \n",
       "202101060016                                                NaN   \n",
       "202101060017  \"Capitol Bomber Remains At Large: FBI Offers $...   \n",
       "202101060018  \"Capitol Bomber Remains At Large: FBI Offers $...   \n",
       "\n",
       "                                                         scite3  \\\n",
       "eventid                                                           \n",
       "202101060016                                                NaN   \n",
       "202101060017  \"Pipe Bombs Believed To Have Been Placed Night...   \n",
       "202101060018  \"Pipe Bombs Believed To Have Been Placed Night...   \n",
       "\n",
       "                              dbsource  INT_LOG  INT_IDEO INT_MISC INT_ANY  \\\n",
       "eventid                                                                      \n",
       "202101060016  START Primary Collection        0         0        0       0   \n",
       "202101060017  START Primary Collection       -9        -9        0      -9   \n",
       "202101060018  START Primary Collection       -9        -9        0      -9   \n",
       "\n",
       "                                               related       date  \n",
       "eventid                                                            \n",
       "202101060016  202101060016, 202101060017, 202101060018 2021-01-06  \n",
       "202101060017  202101060016, 202101060017, 202101060018 2021-01-06  \n",
       "202101060018  202101060016, 202101060017, 202101060018 2021-01-06  \n",
       "\n",
       "[3 rows x 135 columns]"
      ]
     },
     "execution_count": 27,
     "metadata": {},
     "output_type": "execute_result"
    }
   ],
   "source": [
    "jan_six"
   ]
  },
  {
   "cell_type": "code",
   "execution_count": 29,
   "metadata": {},
   "outputs": [
    {
     "name": "stdout",
     "output_type": "stream",
     "text": [
      "\"FBI posts new photos of DC pipe bomb suspect along with $50K reward,\" FOXNews.com, January 12, 2021.\n",
      "\"Feds rushing to find leads on person who put bombs outside RNC and DNC buildings, and worry they'll strike again,\" CNN Wire, January 28, 2021.\n",
      "\"Feds rushing to find leads on person who put bombs outside RNC and DNC buildings, and worry they'll strike again,\" CNN Wire, January 28, 2021.\n"
     ]
    }
   ],
   "source": [
    "for data in jan_six[\"scite1\"].values:\n",
    "    print(data)"
   ]
  },
  {
   "cell_type": "code",
   "execution_count": 34,
   "metadata": {},
   "outputs": [
    {
     "data": {
      "text/plain": [
       "eventid\n",
       "202101060016    182.0\n",
       "202101060017      0.0\n",
       "202101060018      0.0\n",
       "Name: nwound, dtype: float64"
      ]
     },
     "execution_count": 34,
     "metadata": {},
     "output_type": "execute_result"
    }
   ],
   "source": [
    "jan_six[\"nwound\"]"
   ]
  },
  {
   "cell_type": "code",
   "execution_count": 33,
   "metadata": {},
   "outputs": [
    {
     "data": {
      "text/plain": [
       "'\"FBI posts new photos of DC pipe bomb suspect along with $50K reward,\" FOXNews.com, January 12, 2021.'"
      ]
     },
     "execution_count": 33,
     "metadata": {},
     "output_type": "execute_result"
    }
   ],
   "source": [
    "jan_six.loc[202101060016][\"scite1\"]"
   ]
  }
 ],
 "metadata": {
  "kernelspec": {
   "display_name": "base",
   "language": "python",
   "name": "python3"
  },
  "language_info": {
   "codemirror_mode": {
    "name": "ipython",
    "version": 3
   },
   "file_extension": ".py",
   "mimetype": "text/x-python",
   "name": "python",
   "nbconvert_exporter": "python",
   "pygments_lexer": "ipython3",
   "version": "3.11.7"
  }
 },
 "nbformat": 4,
 "nbformat_minor": 2
}
